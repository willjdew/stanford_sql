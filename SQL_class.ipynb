{
 "cells": [
  {
   "cell_type": "code",
   "execution_count": 1,
   "metadata": {
    "collapsed": true
   },
   "outputs": [],
   "source": [
    "# sql course website\n",
    "# https://lagunita.stanford.edu/courses/DB/SQL/SelfPaced/courseware/ch-sql/seq-vid-table_variables_and_set_operators/?child=first\n",
    "\n",
    "import sqlite3\n",
    "\n",
    "def create_connection(db_file):\n",
    "    \"\"\" create a database connection to the SQLite database\n",
    "        specified by db_file\n",
    "    :param db_file: database file\n",
    "    :return: Connection object or None\n",
    "    \"\"\"\n",
    "    try:\n",
    "        conn = sqlite3.connect(db_file)\n",
    "        return conn\n",
    "    except IOError as e:\n",
    "        print(e)\n",
    "\n",
    "    return None\n",
    "\n",
    "\n",
    "def create_table(conn, create_table_sql):\n",
    "    #create a table from the create_table_sql statement\n",
    "    try:\n",
    "        c = conn.cursor()\n",
    "        c.execute(create_table_sql)\n",
    "    except IOError as e:\n",
    "        print(e)"
   ]
  },
  {
   "cell_type": "code",
   "execution_count": 2,
   "metadata": {
    "collapsed": true
   },
   "outputs": [],
   "source": [
    "create_college_table = \"\"\"CREATE TABLE IF NOT EXISTS College (\n",
    "                            cName text PRIMARY KEY,\n",
    "                            state text NOT NULL,\n",
    "                            enrollment integer NOT NULL);\"\"\"\n",
    "\n",
    "create_student_table = \"\"\"CREATE TABLE IF NOT EXISTS Student (\n",
    "                            sID integer PRIMARY KEY,\n",
    "                            sName text NOT NULL,\n",
    "                            GPA real NOT NULL,\n",
    "                            sizeHS integer NOT NULL);\"\"\"\n",
    "\n",
    "create_apply_table = \"\"\"CREATE TABLE IF NOT EXISTS Apply (\n",
    "                            sID integer NOT NULL,\n",
    "                            cName text NOT NULL,\n",
    "                            major text NOT NULL,\n",
    "                            decision text NOT NULL,\n",
    "                            FOREIGN KEY (sID) REFERENCES Student (sID),\n",
    "                            FOREIGN KEY (cName) REFERENCES College (cName));\"\"\""
   ]
  },
  {
   "cell_type": "code",
   "execution_count": 3,
   "metadata": {
    "collapsed": true
   },
   "outputs": [],
   "source": [
    "database = \"C:\\Users\\wdew\\Desktop\\jupyter\\SQL\\simple_college_admissions.db\"\n",
    "\n",
    "# create a database connection\n",
    "conn = create_connection(database)\n",
    "if conn is not None:\n",
    "    create_table(conn, create_college_table)\n",
    "    create_table(conn, create_student_table)\n",
    "    create_table(conn, create_apply_table)\n",
    "    conn.close()\n",
    "else:\n",
    "    print(\"Error! cannot create the database connection.\")"
   ]
  },
  {
   "cell_type": "code",
   "execution_count": 4,
   "metadata": {
    "collapsed": true
   },
   "outputs": [],
   "source": [
    "def create_college(conn, college):\n",
    "    \"\"\"\n",
    "    Create a new college into the College table\n",
    "    :param conn:\n",
    "    :param college:\n",
    "    \"\"\"\n",
    "    sql = ''' INSERT INTO College(cName, state, enrollment)\n",
    "              VALUES(?,?,?) '''\n",
    "    cur = conn.cursor()\n",
    "    cur.execute(sql, college)\n",
    "\n",
    "def create_student(conn, student):\n",
    "    \"\"\"\n",
    "    Create a new student into the Student table\n",
    "    :param conn:\n",
    "    :param student:\n",
    "    \"\"\"\n",
    "    sql = ''' INSERT INTO Student(sID, sName, GPA, sizeHS)\n",
    "              VALUES(?,?,?,?) '''\n",
    "    cur = conn.cursor()\n",
    "    cur.execute(sql, student)\n",
    "\n",
    "def create_apply(conn, apply_1):\n",
    "    \"\"\"\n",
    "    Create a new application into the Apply table\n",
    "    :param conn:\n",
    "    :param apply_1:\n",
    "    \"\"\"\n",
    "    sql = ''' INSERT INTO Apply(sID, cName, major, decision)\n",
    "              VALUES(?,?,?,?) '''\n",
    "    cur = conn.cursor()\n",
    "    cur.execute(sql, apply_1)"
   ]
  },
  {
   "cell_type": "code",
   "execution_count": 5,
   "metadata": {
    "collapsed": true
   },
   "outputs": [],
   "source": [
    "college_dict = {1: ('Stanford', 'CA', 15000),\n",
    "                2: ('Berkeley', 'CA', 36000),\n",
    "                3: ('MIT', 'MA', 10000),\n",
    "                4: ('Cornell', 'NY', 21000)}\n",
    "\n",
    "student_dict = {1: (123, 'Amy', 3.9, 1000),\n",
    "                2: (234, 'Bob', 3.6, 1500),\n",
    "                3: (345, 'Craig', 3.5, 500),\n",
    "                4: (456, 'Doris', 3.9, 1000),\n",
    "                5: (567, 'Edward', 2.9, 2000),\n",
    "                6: (678, 'Fay', 3.8, 200),\n",
    "                7: (789, 'Gary', 3.4, 800),\n",
    "                8: (987, 'Helen', 3.7, 800),\n",
    "                9: (876, 'Irene', 3.9, 400),\n",
    "                10: (765, 'Jay', 2.9, 1500),\n",
    "                11: (654, 'Amy', 3.9, 1000),\n",
    "                12: (543, 'Craig', 3.4, 2000)}\n",
    "\n",
    "application_dict = {1: (123, 'Stanford', 'CS', 'Y'),\n",
    "                    2: (123, 'Stanford', 'EE', 'N'),\n",
    "                    3: (123, 'Berkeley', 'CS', 'Y'),\n",
    "                    4: (123, 'Cornell', 'EE', 'Y'),\n",
    "                    5: (234, 'Berkeley', 'biology', 'N'),\n",
    "                    6: (345, 'MIT', 'bioengineering', 'Y'),\n",
    "                    7: (345, 'Cornell', 'bioengineering', 'N'),\n",
    "                    8: (345, 'Cornell', 'CS', 'Y'),\n",
    "                    9: (345, 'Cornell', 'EE', 'N'),\n",
    "                    10: (678, 'Stanford', 'history', 'Y'),\n",
    "                    11: (987, 'Stanford', 'CS', 'Y'),\n",
    "                    12: (987, 'Berkeley', 'CS', 'Y'),\n",
    "                    13: (876, 'Stanford', 'CS', 'N'),\n",
    "                    14: (876, 'MIT', 'biology', 'Y'),\n",
    "                    15: (876, 'MIT', 'marine biology', 'N'),\n",
    "                    16: (765, 'Stanford', 'history', 'Y'),\n",
    "                    17: (765, 'Cornell', 'history', 'N'),\n",
    "                    18: (765, 'Cornell', 'psychology', 'Y'),\n",
    "                    19: (543, 'MIT', 'CS', 'N')}"
   ]
  },
  {
   "cell_type": "code",
   "execution_count": 6,
   "metadata": {
    "collapsed": true,
    "scrolled": false
   },
   "outputs": [],
   "source": [
    "conn = create_connection(database)\n",
    "with conn:\n",
    "    for value in college_dict.values():\n",
    "        create_college(conn, value)\n",
    "    for value in student_dict.values():\n",
    "         create_student(conn, value)\n",
    "    for value in application_dict.values():\n",
    "        create_apply(conn, value)\n",
    "conn.close()"
   ]
  },
  {
   "cell_type": "code",
   "execution_count": 7,
   "metadata": {
    "collapsed": true
   },
   "outputs": [],
   "source": [
    "def select(conn, query):\n",
    "    \"\"\"\n",
    "    Query tasks by priority\n",
    "    :param conn: the Connection object\n",
    "    :param priority:\n",
    "    :return:\n",
    "    \"\"\"\n",
    "    cur = conn.cursor()\n",
    "    cur.execute(query)\n",
    " \n",
    "    rows = cur.fetchall()\n",
    " \n",
    "    for row in rows:\n",
    "        print(row)    "
   ]
  },
  {
   "cell_type": "code",
   "execution_count": 8,
   "metadata": {},
   "outputs": [
    {
     "name": "stdout",
     "output_type": "stream",
     "text": [
      "(123, u'Amy')\n",
      "(456, u'Doris')\n",
      "(654, u'Amy')\n",
      "(678, u'Fay')\n",
      "(876, u'Irene')\n",
      "(987, u'Helen')\n"
     ]
    }
   ],
   "source": [
    "conn = create_connection(database)\n",
    "query = \"\"\"select sID, sName from Student where GPA > 3.6;\"\"\"\n",
    "select(conn, query)\n",
    "conn.close()"
   ]
  },
  {
   "cell_type": "code",
   "execution_count": 9,
   "metadata": {},
   "outputs": [
    {
     "name": "stdout",
     "output_type": "stream",
     "text": [
      "(u'Amy', u'CS')\n",
      "(u'Amy', u'EE')\n",
      "(u'Bob', u'biology')\n",
      "(u'Craig', u'bioengineering')\n",
      "(u'Craig', u'CS')\n",
      "(u'Craig', u'EE')\n",
      "(u'Fay', u'history')\n",
      "(u'Helen', u'CS')\n",
      "(u'Irene', u'CS')\n",
      "(u'Irene', u'biology')\n",
      "(u'Irene', u'marine biology')\n",
      "(u'Jay', u'history')\n",
      "(u'Jay', u'psychology')\n"
     ]
    }
   ],
   "source": [
    "conn = create_connection(database)\n",
    "query = \"\"\"select distinct sName, major\n",
    "            from Student, Apply\n",
    "            where Student.sID = Apply.sID;\"\"\"\n",
    "select(conn, query)\n",
    "conn.close()"
   ]
  },
  {
   "cell_type": "code",
   "execution_count": 10,
   "metadata": {},
   "outputs": [
    {
     "name": "stdout",
     "output_type": "stream",
     "text": [
      "(u'Helen', 3.7, u'Y')\n",
      "(u'Irene', 3.9, u'N')\n"
     ]
    }
   ],
   "source": [
    "conn = create_connection(database)\n",
    "query = \"\"\"select sName, GPA, decision\n",
    "            from Student, Apply\n",
    "            where Student.sID = Apply.sID\n",
    "            and sizeHS < 1000 and major = 'CS' and cName = 'Stanford';\"\"\"\n",
    "select(conn, query)\n",
    "conn.close()"
   ]
  },
  {
   "cell_type": "code",
   "execution_count": 11,
   "metadata": {},
   "outputs": [
    {
     "name": "stdout",
     "output_type": "stream",
     "text": [
      "(u'Berkeley',)\n",
      "(u'Cornell',)\n"
     ]
    }
   ],
   "source": [
    "conn = create_connection(database)\n",
    "query = \"\"\"select distinct College.cName\n",
    "            from College, Apply\n",
    "            where College.cName = Apply.cName\n",
    "            and enrollment > 20000 and major = 'CS';\"\"\"\n",
    "select(conn, query)\n",
    "conn.close()"
   ]
  },
  {
   "cell_type": "code",
   "execution_count": 12,
   "metadata": {},
   "outputs": [
    {
     "name": "stdout",
     "output_type": "stream",
     "text": [
      "(876, u'Irene', 3.9, u'MIT', 10000)\n",
      "(876, u'Irene', 3.9, u'MIT', 10000)\n",
      "(123, u'Amy', 3.9, u'Stanford', 15000)\n",
      "(123, u'Amy', 3.9, u'Stanford', 15000)\n",
      "(876, u'Irene', 3.9, u'Stanford', 15000)\n",
      "(123, u'Amy', 3.9, u'Cornell', 21000)\n",
      "(123, u'Amy', 3.9, u'Berkeley', 36000)\n",
      "(678, u'Fay', 3.8, u'Stanford', 15000)\n",
      "(987, u'Helen', 3.7, u'Stanford', 15000)\n",
      "(987, u'Helen', 3.7, u'Berkeley', 36000)\n",
      "(234, u'Bob', 3.6, u'Berkeley', 36000)\n",
      "(345, u'Craig', 3.5, u'MIT', 10000)\n",
      "(345, u'Craig', 3.5, u'Cornell', 21000)\n",
      "(345, u'Craig', 3.5, u'Cornell', 21000)\n",
      "(345, u'Craig', 3.5, u'Cornell', 21000)\n",
      "(543, u'Craig', 3.4, u'MIT', 10000)\n",
      "(765, u'Jay', 2.9, u'Stanford', 15000)\n",
      "(765, u'Jay', 2.9, u'Cornell', 21000)\n",
      "(765, u'Jay', 2.9, u'Cornell', 21000)\n"
     ]
    }
   ],
   "source": [
    "conn = create_connection(database)\n",
    "query = \"\"\"select Student.sID, sName, GPA, Apply.cName, enrollment\n",
    "            from Student, College, Apply\n",
    "            where Apply.sID = Student.sID\n",
    "            and Apply.cName = College.cName\n",
    "            order by GPA desc, enrollment;\"\"\"\n",
    "select(conn, query)\n",
    "conn.close()"
   ]
  },
  {
   "cell_type": "code",
   "execution_count": 13,
   "metadata": {
    "scrolled": true
   },
   "outputs": [
    {
     "name": "stdout",
     "output_type": "stream",
     "text": [
      "(234, u'biology')\n",
      "(345, u'bioengineering')\n",
      "(345, u'bioengineering')\n",
      "(876, u'biology')\n",
      "(876, u'marine biology')\n"
     ]
    }
   ],
   "source": [
    "conn = create_connection(database)\n",
    "query = \"\"\"select sID, major\n",
    "            from Apply\n",
    "            where major like '%bio%';\"\"\"\n",
    "select(conn, query)\n",
    "conn.close()"
   ]
  },
  {
   "cell_type": "code",
   "execution_count": 14,
   "metadata": {},
   "outputs": [
    {
     "name": "stdout",
     "output_type": "stream",
     "text": [
      "(234, u'Berkeley', u'biology', u'N')\n",
      "(345, u'MIT', u'bioengineering', u'Y')\n",
      "(345, u'Cornell', u'bioengineering', u'N')\n",
      "(876, u'MIT', u'biology', u'Y')\n",
      "(876, u'MIT', u'marine biology', u'N')\n"
     ]
    }
   ],
   "source": [
    "conn = create_connection(database)\n",
    "query = \"\"\"select *\n",
    "            from Apply\n",
    "            where major like '%bio%';\"\"\"\n",
    "select(conn, query)\n",
    "conn.close()"
   ]
  },
  {
   "cell_type": "code",
   "execution_count": 15,
   "metadata": {
    "scrolled": true
   },
   "outputs": [
    {
     "name": "stdout",
     "output_type": "stream",
     "text": [
      "(123, u'Amy', 3.9, 1000, 3.9)\n",
      "(234, u'Bob', 3.6, 1500, 5.4)\n",
      "(345, u'Craig', 3.5, 500, 1.75)\n",
      "(456, u'Doris', 3.9, 1000, 3.9)\n",
      "(543, u'Craig', 3.4, 2000, 6.8)\n",
      "(567, u'Edward', 2.9, 2000, 5.8)\n",
      "(654, u'Amy', 3.9, 1000, 3.9)\n",
      "(678, u'Fay', 3.8, 200, 0.76)\n",
      "(765, u'Jay', 2.9, 1500, 4.35)\n",
      "(789, u'Gary', 3.4, 800, 2.72)\n",
      "(876, u'Irene', 3.9, 400, 1.56)\n",
      "(987, u'Helen', 3.7, 800, 2.9600000000000004)\n"
     ]
    }
   ],
   "source": [
    "conn = create_connection(database)\n",
    "query = \"\"\"select sID, sName, GPA, sizeHS, GPA*(sizeHS/1000.0) as scaledGPA\n",
    "            from Student;\"\"\"\n",
    "select(conn, query)\n",
    "conn.close()"
   ]
  },
  {
   "cell_type": "code",
   "execution_count": 16,
   "metadata": {},
   "outputs": [
    {
     "name": "stdout",
     "output_type": "stream",
     "text": [
      "(123, u'Amy', 3.9, u'Stanford', 15000)\n",
      "(123, u'Amy', 3.9, u'Stanford', 15000)\n",
      "(123, u'Amy', 3.9, u'Berkeley', 36000)\n",
      "(123, u'Amy', 3.9, u'Cornell', 21000)\n",
      "(234, u'Bob', 3.6, u'Berkeley', 36000)\n",
      "(345, u'Craig', 3.5, u'MIT', 10000)\n",
      "(345, u'Craig', 3.5, u'Cornell', 21000)\n",
      "(345, u'Craig', 3.5, u'Cornell', 21000)\n",
      "(345, u'Craig', 3.5, u'Cornell', 21000)\n",
      "(678, u'Fay', 3.8, u'Stanford', 15000)\n",
      "(987, u'Helen', 3.7, u'Stanford', 15000)\n",
      "(987, u'Helen', 3.7, u'Berkeley', 36000)\n",
      "(876, u'Irene', 3.9, u'Stanford', 15000)\n",
      "(876, u'Irene', 3.9, u'MIT', 10000)\n",
      "(876, u'Irene', 3.9, u'MIT', 10000)\n",
      "(765, u'Jay', 2.9, u'Stanford', 15000)\n",
      "(765, u'Jay', 2.9, u'Cornell', 21000)\n",
      "(765, u'Jay', 2.9, u'Cornell', 21000)\n",
      "(543, u'Craig', 3.4, u'MIT', 10000)\n"
     ]
    }
   ],
   "source": [
    "conn = create_connection(database)\n",
    "query = \"\"\"select s.sID, sName, GPA, a.cName, enrollment\n",
    "            from Student s, College c , Apply a\n",
    "            where a.sID = s.sID and a.cName = c.cName;\"\"\"\n",
    "select(conn, query)\n",
    "conn.close()"
   ]
  },
  {
   "cell_type": "code",
   "execution_count": 17,
   "metadata": {},
   "outputs": [
    {
     "name": "stdout",
     "output_type": "stream",
     "text": [
      "(123, u'Amy', 3.9, 654, u'Amy', 3.9)\n",
      "(123, u'Amy', 3.9, 456, u'Doris', 3.9)\n",
      "(123, u'Amy', 3.9, 876, u'Irene', 3.9)\n",
      "(456, u'Doris', 3.9, 654, u'Amy', 3.9)\n",
      "(456, u'Doris', 3.9, 876, u'Irene', 3.9)\n",
      "(543, u'Craig', 3.4, 789, u'Gary', 3.4)\n",
      "(567, u'Edward', 2.9, 765, u'Jay', 2.9)\n",
      "(654, u'Amy', 3.9, 876, u'Irene', 3.9)\n"
     ]
    }
   ],
   "source": [
    "conn = create_connection(database)\n",
    "query = \"\"\"select s1.sID, s1.sName, s1.GPA, s2.sID, s2.sName, s2.GPA\n",
    "            from Student s1, Student s2\n",
    "            where s1.GPA = s2.GPA AND s1.sID < s2.sID;\"\"\"\n",
    "select(conn, query)\n",
    "conn.close()"
   ]
  },
  {
   "cell_type": "code",
   "execution_count": 18,
   "metadata": {},
   "outputs": [
    {
     "name": "stdout",
     "output_type": "stream",
     "text": [
      "(u'Amy',)\n",
      "(u'Amy',)\n",
      "(u'Berkeley',)\n",
      "(u'Bob',)\n",
      "(u'Cornell',)\n",
      "(u'Craig',)\n",
      "(u'Craig',)\n",
      "(u'Doris',)\n",
      "(u'Edward',)\n",
      "(u'Fay',)\n",
      "(u'Gary',)\n",
      "(u'Helen',)\n",
      "(u'Irene',)\n",
      "(u'Jay',)\n",
      "(u'MIT',)\n",
      "(u'Stanford',)\n"
     ]
    }
   ],
   "source": [
    "conn = create_connection(database)\n",
    "query = \"\"\"select cName as name from College\n",
    "            union all\n",
    "            select sName as name from Student\n",
    "            order by name;\"\"\"\n",
    "select(conn, query)\n",
    "conn.close()"
   ]
  },
  {
   "cell_type": "code",
   "execution_count": 19,
   "metadata": {},
   "outputs": [
    {
     "name": "stdout",
     "output_type": "stream",
     "text": [
      "(123,)\n",
      "(345,)\n"
     ]
    }
   ],
   "source": [
    "conn = create_connection(database)\n",
    "query = \"\"\"select sID from Apply where major = 'CS'\n",
    "            intersect\n",
    "            select sID from Apply where major = 'EE';\"\"\"\n",
    "select(conn, query)\n",
    "conn.close()"
   ]
  },
  {
   "cell_type": "code",
   "execution_count": 20,
   "metadata": {},
   "outputs": [
    {
     "name": "stdout",
     "output_type": "stream",
     "text": [
      "(543,)\n",
      "(876,)\n",
      "(987,)\n"
     ]
    }
   ],
   "source": [
    "conn = create_connection(database)\n",
    "query = \"\"\"select sID from Apply where major = 'CS'\n",
    "            except\n",
    "            select sID from Apply where major = 'EE';\"\"\"\n",
    "select(conn, query)\n",
    "conn.close()"
   ]
  },
  {
   "cell_type": "markdown",
   "metadata": {},
   "source": [
    "## Subqueries in WHERE clause"
   ]
  },
  {
   "cell_type": "code",
   "execution_count": 21,
   "metadata": {
    "scrolled": true
   },
   "outputs": [
    {
     "name": "stdout",
     "output_type": "stream",
     "text": [
      "(123, u'Amy')\n",
      "(345, u'Craig')\n",
      "(543, u'Craig')\n",
      "(876, u'Irene')\n",
      "(987, u'Helen')\n"
     ]
    }
   ],
   "source": [
    "# IDs and names of students who have applied to major in CS at some college\n",
    "conn = create_connection(database)\n",
    "query = \"\"\" select sID, sName\n",
    "            from Student\n",
    "            where sID in (select sID from Apply where major = 'CS');\"\"\"\n",
    "select(conn, query)\n",
    "conn.close()"
   ]
  },
  {
   "cell_type": "code",
   "execution_count": 22,
   "metadata": {},
   "outputs": [
    {
     "name": "stdout",
     "output_type": "stream",
     "text": [
      "(3.9,)\n",
      "(3.5,)\n",
      "(3.4,)\n",
      "(3.9,)\n",
      "(3.7,)\n"
     ]
    }
   ],
   "source": [
    "# Duplicates are important: average GPA of CS applicants\n",
    "conn = create_connection(database)\n",
    "query = \"\"\" select GPA\n",
    "            from Student\n",
    "            where sID in (select sID from Apply where major = 'CS');\"\"\"\n",
    "select(conn, query)\n",
    "conn.close()"
   ]
  },
  {
   "cell_type": "code",
   "execution_count": 23,
   "metadata": {},
   "outputs": [
    {
     "name": "stdout",
     "output_type": "stream",
     "text": [
      "(543, u'Craig')\n",
      "(876, u'Irene')\n",
      "(987, u'Helen')\n"
     ]
    }
   ],
   "source": [
    "# Students who have applied to major in CS but have not applied to major in EE\n",
    "conn = create_connection(database)\n",
    "query = \"\"\" select sID, sName\n",
    "            from Student\n",
    "            where sID in (select sID from Apply where major = 'CS')\n",
    "            and sID not in (select sID from apply where major = 'EE');\"\"\"\n",
    "select(conn, query)\n",
    "conn.close()"
   ]
  },
  {
   "cell_type": "code",
   "execution_count": 24,
   "metadata": {},
   "outputs": [
    {
     "name": "stdout",
     "output_type": "stream",
     "text": [
      "(u'Stanford', u'CA')\n",
      "(u'Berkeley', u'CA')\n"
     ]
    }
   ],
   "source": [
    "# all colleges such that some other college is in the same state\n",
    "conn = create_connection(database)\n",
    "query = \"\"\" select cName, state\n",
    "            from College C1\n",
    "            where exists (select * from College C2 where C1.state = C2.state\n",
    "                            and C1.cName <> C2.cName);\"\"\"\n",
    "select(conn, query)\n",
    "conn.close()"
   ]
  },
  {
   "cell_type": "code",
   "execution_count": 25,
   "metadata": {},
   "outputs": [
    {
     "name": "stdout",
     "output_type": "stream",
     "text": [
      "(u'Berkeley',)\n"
     ]
    }
   ],
   "source": [
    "# college with highest enrollment\n",
    "conn = create_connection(database)\n",
    "query = \"\"\" select cName\n",
    "            from College c1\n",
    "            where not exists (select * from College c2\n",
    "            where c2.enrollment > c1.enrollment);\"\"\"\n",
    "select(conn, query)\n",
    "conn.close()"
   ]
  },
  {
   "cell_type": "code",
   "execution_count": 26,
   "metadata": {},
   "outputs": [
    {
     "name": "stdout",
     "output_type": "stream",
     "text": [
      "(u'Amy', 3.9)\n",
      "(u'Doris', 3.9)\n",
      "(u'Amy', 3.9)\n",
      "(u'Irene', 3.9)\n"
     ]
    }
   ],
   "source": [
    "# student with highest GPA\n",
    "conn = create_connection(database)\n",
    "query = \"\"\" select sName, GPA\n",
    "            from Student S1\n",
    "            where not exists (select * from Student s2 \n",
    "            where s2.GPA > s1.GPA);\"\"\"\n",
    "select(conn, query)\n",
    "conn.close()"
   ]
  },
  {
   "cell_type": "code",
   "execution_count": 27,
   "metadata": {
    "scrolled": true
   },
   "outputs": [
    {
     "ename": "OperationalError",
     "evalue": "near \"all\": syntax error",
     "output_type": "error",
     "traceback": [
      "\u001b[1;31m---------------------------------------------------------------------------\u001b[0m",
      "\u001b[1;31mOperationalError\u001b[0m                          Traceback (most recent call last)",
      "\u001b[1;32m<ipython-input-27-bd413c4e158d>\u001b[0m in \u001b[0;36m<module>\u001b[1;34m()\u001b[0m\n\u001b[0;32m      3\u001b[0m             \u001b[1;32mfrom\u001b[0m \u001b[0mStudent\u001b[0m\u001b[1;33m\u001b[0m\u001b[0m\n\u001b[0;32m      4\u001b[0m             where GPA >= all (select GPA from Student);\"\"\"\n\u001b[1;32m----> 5\u001b[1;33m \u001b[0mselect\u001b[0m\u001b[1;33m(\u001b[0m\u001b[0mconn\u001b[0m\u001b[1;33m,\u001b[0m \u001b[0mquery\u001b[0m\u001b[1;33m)\u001b[0m\u001b[1;33m\u001b[0m\u001b[0m\n\u001b[0m\u001b[0;32m      6\u001b[0m \u001b[0mconn\u001b[0m\u001b[1;33m.\u001b[0m\u001b[0mclose\u001b[0m\u001b[1;33m(\u001b[0m\u001b[1;33m)\u001b[0m\u001b[1;33m\u001b[0m\u001b[0m\n",
      "\u001b[1;32m<ipython-input-7-b47ee69840f6>\u001b[0m in \u001b[0;36mselect\u001b[1;34m(conn, query)\u001b[0m\n\u001b[0;32m      7\u001b[0m     \"\"\"\n\u001b[0;32m      8\u001b[0m     \u001b[0mcur\u001b[0m \u001b[1;33m=\u001b[0m \u001b[0mconn\u001b[0m\u001b[1;33m.\u001b[0m\u001b[0mcursor\u001b[0m\u001b[1;33m(\u001b[0m\u001b[1;33m)\u001b[0m\u001b[1;33m\u001b[0m\u001b[0m\n\u001b[1;32m----> 9\u001b[1;33m     \u001b[0mcur\u001b[0m\u001b[1;33m.\u001b[0m\u001b[0mexecute\u001b[0m\u001b[1;33m(\u001b[0m\u001b[0mquery\u001b[0m\u001b[1;33m)\u001b[0m\u001b[1;33m\u001b[0m\u001b[0m\n\u001b[0m\u001b[0;32m     10\u001b[0m \u001b[1;33m\u001b[0m\u001b[0m\n\u001b[0;32m     11\u001b[0m     \u001b[0mrows\u001b[0m \u001b[1;33m=\u001b[0m \u001b[0mcur\u001b[0m\u001b[1;33m.\u001b[0m\u001b[0mfetchall\u001b[0m\u001b[1;33m(\u001b[0m\u001b[1;33m)\u001b[0m\u001b[1;33m\u001b[0m\u001b[0m\n",
      "\u001b[1;31mOperationalError\u001b[0m: near \"all\": syntax error"
     ]
    }
   ],
   "source": [
    "conn = create_connection(database)\n",
    "query = \"\"\" select sName, GPA\n",
    "            from Student\n",
    "            where GPA >= all (select GPA from Student);\"\"\"\n",
    "select(conn, query)\n",
    "conn.close()"
   ]
  },
  {
   "cell_type": "code",
   "execution_count": 28,
   "metadata": {
    "scrolled": false
   },
   "outputs": [
    {
     "ename": "OperationalError",
     "evalue": "near \"all\": syntax error",
     "output_type": "error",
     "traceback": [
      "\u001b[1;31m---------------------------------------------------------------------------\u001b[0m",
      "\u001b[1;31mOperationalError\u001b[0m                          Traceback (most recent call last)",
      "\u001b[1;32m<ipython-input-28-59ce93cb4bdb>\u001b[0m in \u001b[0;36m<module>\u001b[1;34m()\u001b[0m\n\u001b[0;32m      3\u001b[0m             \u001b[1;32mfrom\u001b[0m \u001b[0mStudent\u001b[0m \u001b[0mS1\u001b[0m\u001b[1;33m\u001b[0m\u001b[0m\n\u001b[0;32m      4\u001b[0m             where GPA > all (select GPA from Student S2 where S2.sID <> s1.sID);\"\"\"\n\u001b[1;32m----> 5\u001b[1;33m \u001b[0mselect\u001b[0m\u001b[1;33m(\u001b[0m\u001b[0mconn\u001b[0m\u001b[1;33m,\u001b[0m \u001b[0mquery\u001b[0m\u001b[1;33m)\u001b[0m\u001b[1;33m\u001b[0m\u001b[0m\n\u001b[0m\u001b[0;32m      6\u001b[0m \u001b[0mconn\u001b[0m\u001b[1;33m.\u001b[0m\u001b[0mclose\u001b[0m\u001b[1;33m(\u001b[0m\u001b[1;33m)\u001b[0m\u001b[1;33m\u001b[0m\u001b[0m\n",
      "\u001b[1;32m<ipython-input-7-b47ee69840f6>\u001b[0m in \u001b[0;36mselect\u001b[1;34m(conn, query)\u001b[0m\n\u001b[0;32m      7\u001b[0m     \"\"\"\n\u001b[0;32m      8\u001b[0m     \u001b[0mcur\u001b[0m \u001b[1;33m=\u001b[0m \u001b[0mconn\u001b[0m\u001b[1;33m.\u001b[0m\u001b[0mcursor\u001b[0m\u001b[1;33m(\u001b[0m\u001b[1;33m)\u001b[0m\u001b[1;33m\u001b[0m\u001b[0m\n\u001b[1;32m----> 9\u001b[1;33m     \u001b[0mcur\u001b[0m\u001b[1;33m.\u001b[0m\u001b[0mexecute\u001b[0m\u001b[1;33m(\u001b[0m\u001b[0mquery\u001b[0m\u001b[1;33m)\u001b[0m\u001b[1;33m\u001b[0m\u001b[0m\n\u001b[0m\u001b[0;32m     10\u001b[0m \u001b[1;33m\u001b[0m\u001b[0m\n\u001b[0;32m     11\u001b[0m     \u001b[0mrows\u001b[0m \u001b[1;33m=\u001b[0m \u001b[0mcur\u001b[0m\u001b[1;33m.\u001b[0m\u001b[0mfetchall\u001b[0m\u001b[1;33m(\u001b[0m\u001b[1;33m)\u001b[0m\u001b[1;33m\u001b[0m\u001b[0m\n",
      "\u001b[1;31mOperationalError\u001b[0m: near \"all\": syntax error"
     ]
    }
   ],
   "source": [
    "conn = create_connection(database)\n",
    "query = \"\"\" select sName, GPA\n",
    "            from Student S1\n",
    "            where GPA > all (select GPA from Student S2 where S2.sID <> s1.sID);\"\"\"\n",
    "select(conn, query)\n",
    "conn.close()"
   ]
  },
  {
   "cell_type": "code",
   "execution_count": 29,
   "metadata": {},
   "outputs": [
    {
     "ename": "OperationalError",
     "evalue": "near \"all\": syntax error",
     "output_type": "error",
     "traceback": [
      "\u001b[1;31m---------------------------------------------------------------------------\u001b[0m",
      "\u001b[1;31mOperationalError\u001b[0m                          Traceback (most recent call last)",
      "\u001b[1;32m<ipython-input-29-e7fd77e83a84>\u001b[0m in \u001b[0;36m<module>\u001b[1;34m()\u001b[0m\n\u001b[0;32m      5\u001b[0m             where enrollment > all (select enrollment from College C2\n\u001b[0;32m      6\u001b[0m                                     where C2.cName <> C1.cName);\"\"\"\n\u001b[1;32m----> 7\u001b[1;33m \u001b[0mselect\u001b[0m\u001b[1;33m(\u001b[0m\u001b[0mconn\u001b[0m\u001b[1;33m,\u001b[0m \u001b[0mquery\u001b[0m\u001b[1;33m)\u001b[0m\u001b[1;33m\u001b[0m\u001b[0m\n\u001b[0m\u001b[0;32m      8\u001b[0m \u001b[0mconn\u001b[0m\u001b[1;33m.\u001b[0m\u001b[0mclose\u001b[0m\u001b[1;33m(\u001b[0m\u001b[1;33m)\u001b[0m\u001b[1;33m\u001b[0m\u001b[0m\n",
      "\u001b[1;32m<ipython-input-7-b47ee69840f6>\u001b[0m in \u001b[0;36mselect\u001b[1;34m(conn, query)\u001b[0m\n\u001b[0;32m      7\u001b[0m     \"\"\"\n\u001b[0;32m      8\u001b[0m     \u001b[0mcur\u001b[0m \u001b[1;33m=\u001b[0m \u001b[0mconn\u001b[0m\u001b[1;33m.\u001b[0m\u001b[0mcursor\u001b[0m\u001b[1;33m(\u001b[0m\u001b[1;33m)\u001b[0m\u001b[1;33m\u001b[0m\u001b[0m\n\u001b[1;32m----> 9\u001b[1;33m     \u001b[0mcur\u001b[0m\u001b[1;33m.\u001b[0m\u001b[0mexecute\u001b[0m\u001b[1;33m(\u001b[0m\u001b[0mquery\u001b[0m\u001b[1;33m)\u001b[0m\u001b[1;33m\u001b[0m\u001b[0m\n\u001b[0m\u001b[0;32m     10\u001b[0m \u001b[1;33m\u001b[0m\u001b[0m\n\u001b[0;32m     11\u001b[0m     \u001b[0mrows\u001b[0m \u001b[1;33m=\u001b[0m \u001b[0mcur\u001b[0m\u001b[1;33m.\u001b[0m\u001b[0mfetchall\u001b[0m\u001b[1;33m(\u001b[0m\u001b[1;33m)\u001b[0m\u001b[1;33m\u001b[0m\u001b[0m\n",
      "\u001b[1;31mOperationalError\u001b[0m: near \"all\": syntax error"
     ]
    }
   ],
   "source": [
    "# college with highest enrollment with all\n",
    "conn = create_connection(database)\n",
    "query = \"\"\" select cName\n",
    "            from College C1\n",
    "            where enrollment > all (select enrollment from College C2\n",
    "                                    where C2.cName <> C1.cName);\"\"\"\n",
    "select(conn, query)\n",
    "conn.close()"
   ]
  },
  {
   "cell_type": "code",
   "execution_count": 30,
   "metadata": {},
   "outputs": [
    {
     "ename": "OperationalError",
     "evalue": "near \"select\": syntax error",
     "output_type": "error",
     "traceback": [
      "\u001b[1;31m---------------------------------------------------------------------------\u001b[0m",
      "\u001b[1;31mOperationalError\u001b[0m                          Traceback (most recent call last)",
      "\u001b[1;32m<ipython-input-30-ff0b7a6f06d8>\u001b[0m in \u001b[0;36m<module>\u001b[1;34m()\u001b[0m\n\u001b[0;32m      4\u001b[0m             \u001b[1;32mfrom\u001b[0m \u001b[0mStudent\u001b[0m\u001b[1;33m\u001b[0m\u001b[0m\n\u001b[0;32m      5\u001b[0m             where sizeHS > any (select sizeHS from Student);\"\"\"\n\u001b[1;32m----> 6\u001b[1;33m \u001b[0mselect\u001b[0m\u001b[1;33m(\u001b[0m\u001b[0mconn\u001b[0m\u001b[1;33m,\u001b[0m \u001b[0mquery\u001b[0m\u001b[1;33m)\u001b[0m\u001b[1;33m\u001b[0m\u001b[0m\n\u001b[0m\u001b[0;32m      7\u001b[0m \u001b[0mconn\u001b[0m\u001b[1;33m.\u001b[0m\u001b[0mclose\u001b[0m\u001b[1;33m(\u001b[0m\u001b[1;33m)\u001b[0m\u001b[1;33m\u001b[0m\u001b[0m\n",
      "\u001b[1;32m<ipython-input-7-b47ee69840f6>\u001b[0m in \u001b[0;36mselect\u001b[1;34m(conn, query)\u001b[0m\n\u001b[0;32m      7\u001b[0m     \"\"\"\n\u001b[0;32m      8\u001b[0m     \u001b[0mcur\u001b[0m \u001b[1;33m=\u001b[0m \u001b[0mconn\u001b[0m\u001b[1;33m.\u001b[0m\u001b[0mcursor\u001b[0m\u001b[1;33m(\u001b[0m\u001b[1;33m)\u001b[0m\u001b[1;33m\u001b[0m\u001b[0m\n\u001b[1;32m----> 9\u001b[1;33m     \u001b[0mcur\u001b[0m\u001b[1;33m.\u001b[0m\u001b[0mexecute\u001b[0m\u001b[1;33m(\u001b[0m\u001b[0mquery\u001b[0m\u001b[1;33m)\u001b[0m\u001b[1;33m\u001b[0m\u001b[0m\n\u001b[0m\u001b[0;32m     10\u001b[0m \u001b[1;33m\u001b[0m\u001b[0m\n\u001b[0;32m     11\u001b[0m     \u001b[0mrows\u001b[0m \u001b[1;33m=\u001b[0m \u001b[0mcur\u001b[0m\u001b[1;33m.\u001b[0m\u001b[0mfetchall\u001b[0m\u001b[1;33m(\u001b[0m\u001b[1;33m)\u001b[0m\u001b[1;33m\u001b[0m\u001b[0m\n",
      "\u001b[1;31mOperationalError\u001b[0m: near \"select\": syntax error"
     ]
    }
   ],
   "source": [
    "# students not from the smallest high school\n",
    "conn = create_connection(database)\n",
    "query = \"\"\" select sID, sName, sizeHS\n",
    "            from Student\n",
    "            where sizeHS > any (select sizeHS from Student);\"\"\"\n",
    "select(conn, query)\n",
    "conn.close()"
   ]
  },
  {
   "cell_type": "code",
   "execution_count": 31,
   "metadata": {
    "scrolled": true
   },
   "outputs": [
    {
     "ename": "OperationalError",
     "evalue": "near \"select\": syntax error",
     "output_type": "error",
     "traceback": [
      "\u001b[1;31m---------------------------------------------------------------------------\u001b[0m",
      "\u001b[1;31mOperationalError\u001b[0m                          Traceback (most recent call last)",
      "\u001b[1;32m<ipython-input-31-508679e45274>\u001b[0m in \u001b[0;36m<module>\u001b[1;34m()\u001b[0m\n\u001b[0;32m      5\u001b[0m             \u001b[0mwhere\u001b[0m \u001b[0msID\u001b[0m \u001b[1;33m=\u001b[0m \u001b[0many\u001b[0m \u001b[1;33m(\u001b[0m\u001b[0mselect\u001b[0m \u001b[0msID\u001b[0m \u001b[1;32mfrom\u001b[0m \u001b[0mApply\u001b[0m \u001b[0mwhere\u001b[0m \u001b[0mmajor\u001b[0m \u001b[1;33m=\u001b[0m \u001b[1;34m'CS'\u001b[0m\u001b[1;33m)\u001b[0m\u001b[1;33m\u001b[0m\u001b[0m\n\u001b[0;32m      6\u001b[0m             and not sID = any (select sID from apply where major = 'EE');\"\"\"\n\u001b[1;32m----> 7\u001b[1;33m \u001b[0mselect\u001b[0m\u001b[1;33m(\u001b[0m\u001b[0mconn\u001b[0m\u001b[1;33m,\u001b[0m \u001b[0mquery\u001b[0m\u001b[1;33m)\u001b[0m\u001b[1;33m\u001b[0m\u001b[0m\n\u001b[0m\u001b[0;32m      8\u001b[0m \u001b[0mconn\u001b[0m\u001b[1;33m.\u001b[0m\u001b[0mclose\u001b[0m\u001b[1;33m(\u001b[0m\u001b[1;33m)\u001b[0m\u001b[1;33m\u001b[0m\u001b[0m\n",
      "\u001b[1;32m<ipython-input-7-b47ee69840f6>\u001b[0m in \u001b[0;36mselect\u001b[1;34m(conn, query)\u001b[0m\n\u001b[0;32m      7\u001b[0m     \"\"\"\n\u001b[0;32m      8\u001b[0m     \u001b[0mcur\u001b[0m \u001b[1;33m=\u001b[0m \u001b[0mconn\u001b[0m\u001b[1;33m.\u001b[0m\u001b[0mcursor\u001b[0m\u001b[1;33m(\u001b[0m\u001b[1;33m)\u001b[0m\u001b[1;33m\u001b[0m\u001b[0m\n\u001b[1;32m----> 9\u001b[1;33m     \u001b[0mcur\u001b[0m\u001b[1;33m.\u001b[0m\u001b[0mexecute\u001b[0m\u001b[1;33m(\u001b[0m\u001b[0mquery\u001b[0m\u001b[1;33m)\u001b[0m\u001b[1;33m\u001b[0m\u001b[0m\n\u001b[0m\u001b[0;32m     10\u001b[0m \u001b[1;33m\u001b[0m\u001b[0m\n\u001b[0;32m     11\u001b[0m     \u001b[0mrows\u001b[0m \u001b[1;33m=\u001b[0m \u001b[0mcur\u001b[0m\u001b[1;33m.\u001b[0m\u001b[0mfetchall\u001b[0m\u001b[1;33m(\u001b[0m\u001b[1;33m)\u001b[0m\u001b[1;33m\u001b[0m\u001b[0m\n",
      "\u001b[1;31mOperationalError\u001b[0m: near \"select\": syntax error"
     ]
    }
   ],
   "source": [
    "# Students who have applied to CS but not EE\n",
    "conn = create_connection(database)\n",
    "query = \"\"\" select sID, sName\n",
    "            from Student\n",
    "            where sID = any (select sID from Apply where major = 'CS')\n",
    "            and not sID = any (select sID from apply where major = 'EE');\"\"\"\n",
    "select(conn, query)\n",
    "conn.close()"
   ]
  },
  {
   "cell_type": "markdown",
   "metadata": {},
   "source": [
    "## Subqueries in FROM and SELECT"
   ]
  },
  {
   "cell_type": "code",
   "execution_count": 32,
   "metadata": {},
   "outputs": [
    {
     "name": "stdout",
     "output_type": "stream",
     "text": [
      "(234, u'Bob', 3.6, 5.4)\n",
      "(345, u'Craig', 3.5, 1.75)\n",
      "(543, u'Craig', 3.4, 6.8)\n",
      "(567, u'Edward', 2.9, 5.8)\n",
      "(678, u'Fay', 3.8, 0.76)\n",
      "(765, u'Jay', 2.9, 4.35)\n",
      "(876, u'Irene', 3.9, 1.56)\n"
     ]
    }
   ],
   "source": [
    "# Students whose scaled GPA changes GPA by more than 1\n",
    "conn = create_connection(database)\n",
    "query = \"\"\" select *\n",
    "            from (select sID, sName, GPA, GPA*(sizeHS/1000.0) as scaledGPA\n",
    "                    from Student) G\n",
    "            where abs(G.scaledGPA - GPA) > 1.0;\"\"\"\n",
    "select(conn, query)\n",
    "conn.close()"
   ]
  },
  {
   "cell_type": "code",
   "execution_count": 33,
   "metadata": {
    "scrolled": true
   },
   "outputs": [
    {
     "ename": "OperationalError",
     "evalue": "near \"all\": syntax error",
     "output_type": "error",
     "traceback": [
      "\u001b[1;31m---------------------------------------------------------------------------\u001b[0m",
      "\u001b[1;31mOperationalError\u001b[0m                          Traceback (most recent call last)",
      "\u001b[1;32m<ipython-input-33-e6b7c4129472>\u001b[0m in \u001b[0;36m<module>\u001b[1;34m()\u001b[0m\n\u001b[0;32m     10\u001b[0m                                     and Apply.cName = College.cName)) as GPA\n\u001b[0;32m     11\u001b[0m             from College;\"\"\"\n\u001b[1;32m---> 12\u001b[1;33m \u001b[0mselect\u001b[0m\u001b[1;33m(\u001b[0m\u001b[0mconn\u001b[0m\u001b[1;33m,\u001b[0m \u001b[0mquery\u001b[0m\u001b[1;33m)\u001b[0m\u001b[1;33m\u001b[0m\u001b[0m\n\u001b[0m\u001b[0;32m     13\u001b[0m \u001b[0mconn\u001b[0m\u001b[1;33m.\u001b[0m\u001b[0mclose\u001b[0m\u001b[1;33m(\u001b[0m\u001b[1;33m)\u001b[0m\u001b[1;33m\u001b[0m\u001b[0m\n",
      "\u001b[1;32m<ipython-input-7-b47ee69840f6>\u001b[0m in \u001b[0;36mselect\u001b[1;34m(conn, query)\u001b[0m\n\u001b[0;32m      7\u001b[0m     \"\"\"\n\u001b[0;32m      8\u001b[0m     \u001b[0mcur\u001b[0m \u001b[1;33m=\u001b[0m \u001b[0mconn\u001b[0m\u001b[1;33m.\u001b[0m\u001b[0mcursor\u001b[0m\u001b[1;33m(\u001b[0m\u001b[1;33m)\u001b[0m\u001b[1;33m\u001b[0m\u001b[0m\n\u001b[1;32m----> 9\u001b[1;33m     \u001b[0mcur\u001b[0m\u001b[1;33m.\u001b[0m\u001b[0mexecute\u001b[0m\u001b[1;33m(\u001b[0m\u001b[0mquery\u001b[0m\u001b[1;33m)\u001b[0m\u001b[1;33m\u001b[0m\u001b[0m\n\u001b[0m\u001b[0;32m     10\u001b[0m \u001b[1;33m\u001b[0m\u001b[0m\n\u001b[0;32m     11\u001b[0m     \u001b[0mrows\u001b[0m \u001b[1;33m=\u001b[0m \u001b[0mcur\u001b[0m\u001b[1;33m.\u001b[0m\u001b[0mfetchall\u001b[0m\u001b[1;33m(\u001b[0m\u001b[1;33m)\u001b[0m\u001b[1;33m\u001b[0m\u001b[0m\n",
      "\u001b[1;31mOperationalError\u001b[0m: near \"all\": syntax error"
     ]
    }
   ],
   "source": [
    "# colleges paired with the highest GPA of their applicants\n",
    "conn = create_connection(database)\n",
    "query = \"\"\" select cName, state, (select distinct GPA\n",
    "                                    from Apply, Student\n",
    "                                    where College.cName = Apply.cName\n",
    "                                    and Apply.sID = Student.sID\n",
    "                                    and GPA >= all \n",
    "                                    (select GPA from Student, Apply\n",
    "                                    where Student.sID = Apply.sID\n",
    "                                    and Apply.cName = College.cName)) as GPA\n",
    "            from College;\"\"\"\n",
    "select(conn, query)\n",
    "conn.close()"
   ]
  },
  {
   "cell_type": "markdown",
   "metadata": {},
   "source": [
    "## The JOIN Family of Operators"
   ]
  },
  {
   "cell_type": "code",
   "execution_count": null,
   "metadata": {
    "collapsed": true
   },
   "outputs": [],
   "source": [
    "# colleges paired with the highest GPA of their applicants\n",
    "conn = create_connection(database)\n",
    "query = \"\"\" ;\"\"\"\n",
    "select(conn, query)\n",
    "conn.close()"
   ]
  }
 ],
 "metadata": {
  "kernelspec": {
   "display_name": "Python 2",
   "language": "python",
   "name": "python2"
  },
  "language_info": {
   "codemirror_mode": {
    "name": "ipython",
    "version": 2
   },
   "file_extension": ".py",
   "mimetype": "text/x-python",
   "name": "python",
   "nbconvert_exporter": "python",
   "pygments_lexer": "ipython2",
   "version": "2.7.14"
  }
 },
 "nbformat": 4,
 "nbformat_minor": 2
}
